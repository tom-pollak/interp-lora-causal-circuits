{
  "nbformat": 4,
  "nbformat_minor": 0,
  "metadata": {
    "colab": {
      "provenance": [],
      "gpuType": "L4",
      "authorship_tag": "ABX9TyNtc3ASt+RF5fUAA1u5lWSi",
      "include_colab_link": true
    },
    "kernelspec": {
      "name": "python3",
      "display_name": "Python 3"
    },
    "language_info": {
      "name": "python"
    },
    "accelerator": "GPU",
    "widgets": {
      "application/vnd.jupyter.widget-state+json": {
        "01de3e07d5a2402cb6273f1d04d9c986": {
          "model_module": "@jupyter-widgets/controls",
          "model_name": "HBoxModel",
          "model_module_version": "1.5.0",
          "state": {
            "_dom_classes": [],
            "_model_module": "@jupyter-widgets/controls",
            "_model_module_version": "1.5.0",
            "_model_name": "HBoxModel",
            "_view_count": null,
            "_view_module": "@jupyter-widgets/controls",
            "_view_module_version": "1.5.0",
            "_view_name": "HBoxView",
            "box_style": "",
            "children": [
              "IPY_MODEL_7ad5407ed4874e8182014a10a7ce7744",
              "IPY_MODEL_b3f9a1a22d24481bba93cc894d1be7d9",
              "IPY_MODEL_51d0c02438e341a0a0cd462db3385c03"
            ],
            "layout": "IPY_MODEL_b1011e2c00ef4e2e965ac3bd7b6bb2f0"
          }
        },
        "7ad5407ed4874e8182014a10a7ce7744": {
          "model_module": "@jupyter-widgets/controls",
          "model_name": "HTMLModel",
          "model_module_version": "1.5.0",
          "state": {
            "_dom_classes": [],
            "_model_module": "@jupyter-widgets/controls",
            "_model_module_version": "1.5.0",
            "_model_name": "HTMLModel",
            "_view_count": null,
            "_view_module": "@jupyter-widgets/controls",
            "_view_module_version": "1.5.0",
            "_view_name": "HTMLView",
            "description": "",
            "description_tooltip": null,
            "layout": "IPY_MODEL_60b9959304974346b00c4e3026b9b705",
            "placeholder": "​",
            "style": "IPY_MODEL_7d54c81cf7ba41d5af291e91b81e00b2",
            "value": "Loading checkpoint shards: 100%"
          }
        },
        "b3f9a1a22d24481bba93cc894d1be7d9": {
          "model_module": "@jupyter-widgets/controls",
          "model_name": "FloatProgressModel",
          "model_module_version": "1.5.0",
          "state": {
            "_dom_classes": [],
            "_model_module": "@jupyter-widgets/controls",
            "_model_module_version": "1.5.0",
            "_model_name": "FloatProgressModel",
            "_view_count": null,
            "_view_module": "@jupyter-widgets/controls",
            "_view_module_version": "1.5.0",
            "_view_name": "ProgressView",
            "bar_style": "success",
            "description": "",
            "description_tooltip": null,
            "layout": "IPY_MODEL_3575a27318d544049ee11d854397608b",
            "max": 3,
            "min": 0,
            "orientation": "horizontal",
            "style": "IPY_MODEL_64832b14bd874974bd6f36be7fee5d6c",
            "value": 3
          }
        },
        "51d0c02438e341a0a0cd462db3385c03": {
          "model_module": "@jupyter-widgets/controls",
          "model_name": "HTMLModel",
          "model_module_version": "1.5.0",
          "state": {
            "_dom_classes": [],
            "_model_module": "@jupyter-widgets/controls",
            "_model_module_version": "1.5.0",
            "_model_name": "HTMLModel",
            "_view_count": null,
            "_view_module": "@jupyter-widgets/controls",
            "_view_module_version": "1.5.0",
            "_view_name": "HTMLView",
            "description": "",
            "description_tooltip": null,
            "layout": "IPY_MODEL_539c777cf7074cba8f42953269369a54",
            "placeholder": "​",
            "style": "IPY_MODEL_cbecc9925701447bae688b9b5896fe23",
            "value": " 3/3 [00:04&lt;00:00,  1.17s/it]"
          }
        },
        "b1011e2c00ef4e2e965ac3bd7b6bb2f0": {
          "model_module": "@jupyter-widgets/base",
          "model_name": "LayoutModel",
          "model_module_version": "1.2.0",
          "state": {
            "_model_module": "@jupyter-widgets/base",
            "_model_module_version": "1.2.0",
            "_model_name": "LayoutModel",
            "_view_count": null,
            "_view_module": "@jupyter-widgets/base",
            "_view_module_version": "1.2.0",
            "_view_name": "LayoutView",
            "align_content": null,
            "align_items": null,
            "align_self": null,
            "border": null,
            "bottom": null,
            "display": null,
            "flex": null,
            "flex_flow": null,
            "grid_area": null,
            "grid_auto_columns": null,
            "grid_auto_flow": null,
            "grid_auto_rows": null,
            "grid_column": null,
            "grid_gap": null,
            "grid_row": null,
            "grid_template_areas": null,
            "grid_template_columns": null,
            "grid_template_rows": null,
            "height": null,
            "justify_content": null,
            "justify_items": null,
            "left": null,
            "margin": null,
            "max_height": null,
            "max_width": null,
            "min_height": null,
            "min_width": null,
            "object_fit": null,
            "object_position": null,
            "order": null,
            "overflow": null,
            "overflow_x": null,
            "overflow_y": null,
            "padding": null,
            "right": null,
            "top": null,
            "visibility": null,
            "width": null
          }
        },
        "60b9959304974346b00c4e3026b9b705": {
          "model_module": "@jupyter-widgets/base",
          "model_name": "LayoutModel",
          "model_module_version": "1.2.0",
          "state": {
            "_model_module": "@jupyter-widgets/base",
            "_model_module_version": "1.2.0",
            "_model_name": "LayoutModel",
            "_view_count": null,
            "_view_module": "@jupyter-widgets/base",
            "_view_module_version": "1.2.0",
            "_view_name": "LayoutView",
            "align_content": null,
            "align_items": null,
            "align_self": null,
            "border": null,
            "bottom": null,
            "display": null,
            "flex": null,
            "flex_flow": null,
            "grid_area": null,
            "grid_auto_columns": null,
            "grid_auto_flow": null,
            "grid_auto_rows": null,
            "grid_column": null,
            "grid_gap": null,
            "grid_row": null,
            "grid_template_areas": null,
            "grid_template_columns": null,
            "grid_template_rows": null,
            "height": null,
            "justify_content": null,
            "justify_items": null,
            "left": null,
            "margin": null,
            "max_height": null,
            "max_width": null,
            "min_height": null,
            "min_width": null,
            "object_fit": null,
            "object_position": null,
            "order": null,
            "overflow": null,
            "overflow_x": null,
            "overflow_y": null,
            "padding": null,
            "right": null,
            "top": null,
            "visibility": null,
            "width": null
          }
        },
        "7d54c81cf7ba41d5af291e91b81e00b2": {
          "model_module": "@jupyter-widgets/controls",
          "model_name": "DescriptionStyleModel",
          "model_module_version": "1.5.0",
          "state": {
            "_model_module": "@jupyter-widgets/controls",
            "_model_module_version": "1.5.0",
            "_model_name": "DescriptionStyleModel",
            "_view_count": null,
            "_view_module": "@jupyter-widgets/base",
            "_view_module_version": "1.2.0",
            "_view_name": "StyleView",
            "description_width": ""
          }
        },
        "3575a27318d544049ee11d854397608b": {
          "model_module": "@jupyter-widgets/base",
          "model_name": "LayoutModel",
          "model_module_version": "1.2.0",
          "state": {
            "_model_module": "@jupyter-widgets/base",
            "_model_module_version": "1.2.0",
            "_model_name": "LayoutModel",
            "_view_count": null,
            "_view_module": "@jupyter-widgets/base",
            "_view_module_version": "1.2.0",
            "_view_name": "LayoutView",
            "align_content": null,
            "align_items": null,
            "align_self": null,
            "border": null,
            "bottom": null,
            "display": null,
            "flex": null,
            "flex_flow": null,
            "grid_area": null,
            "grid_auto_columns": null,
            "grid_auto_flow": null,
            "grid_auto_rows": null,
            "grid_column": null,
            "grid_gap": null,
            "grid_row": null,
            "grid_template_areas": null,
            "grid_template_columns": null,
            "grid_template_rows": null,
            "height": null,
            "justify_content": null,
            "justify_items": null,
            "left": null,
            "margin": null,
            "max_height": null,
            "max_width": null,
            "min_height": null,
            "min_width": null,
            "object_fit": null,
            "object_position": null,
            "order": null,
            "overflow": null,
            "overflow_x": null,
            "overflow_y": null,
            "padding": null,
            "right": null,
            "top": null,
            "visibility": null,
            "width": null
          }
        },
        "64832b14bd874974bd6f36be7fee5d6c": {
          "model_module": "@jupyter-widgets/controls",
          "model_name": "ProgressStyleModel",
          "model_module_version": "1.5.0",
          "state": {
            "_model_module": "@jupyter-widgets/controls",
            "_model_module_version": "1.5.0",
            "_model_name": "ProgressStyleModel",
            "_view_count": null,
            "_view_module": "@jupyter-widgets/base",
            "_view_module_version": "1.2.0",
            "_view_name": "StyleView",
            "bar_color": null,
            "description_width": ""
          }
        },
        "539c777cf7074cba8f42953269369a54": {
          "model_module": "@jupyter-widgets/base",
          "model_name": "LayoutModel",
          "model_module_version": "1.2.0",
          "state": {
            "_model_module": "@jupyter-widgets/base",
            "_model_module_version": "1.2.0",
            "_model_name": "LayoutModel",
            "_view_count": null,
            "_view_module": "@jupyter-widgets/base",
            "_view_module_version": "1.2.0",
            "_view_name": "LayoutView",
            "align_content": null,
            "align_items": null,
            "align_self": null,
            "border": null,
            "bottom": null,
            "display": null,
            "flex": null,
            "flex_flow": null,
            "grid_area": null,
            "grid_auto_columns": null,
            "grid_auto_flow": null,
            "grid_auto_rows": null,
            "grid_column": null,
            "grid_gap": null,
            "grid_row": null,
            "grid_template_areas": null,
            "grid_template_columns": null,
            "grid_template_rows": null,
            "height": null,
            "justify_content": null,
            "justify_items": null,
            "left": null,
            "margin": null,
            "max_height": null,
            "max_width": null,
            "min_height": null,
            "min_width": null,
            "object_fit": null,
            "object_position": null,
            "order": null,
            "overflow": null,
            "overflow_x": null,
            "overflow_y": null,
            "padding": null,
            "right": null,
            "top": null,
            "visibility": null,
            "width": null
          }
        },
        "cbecc9925701447bae688b9b5896fe23": {
          "model_module": "@jupyter-widgets/controls",
          "model_name": "DescriptionStyleModel",
          "model_module_version": "1.5.0",
          "state": {
            "_model_module": "@jupyter-widgets/controls",
            "_model_module_version": "1.5.0",
            "_model_name": "DescriptionStyleModel",
            "_view_count": null,
            "_view_module": "@jupyter-widgets/base",
            "_view_module_version": "1.2.0",
            "_view_name": "StyleView",
            "description_width": ""
          }
        },
        "5d438dc15c0543e9863b30aae8c102bf": {
          "model_module": "@jupyter-widgets/controls",
          "model_name": "HBoxModel",
          "model_module_version": "1.5.0",
          "state": {
            "_dom_classes": [],
            "_model_module": "@jupyter-widgets/controls",
            "_model_module_version": "1.5.0",
            "_model_name": "HBoxModel",
            "_view_count": null,
            "_view_module": "@jupyter-widgets/controls",
            "_view_module_version": "1.5.0",
            "_view_name": "HBoxView",
            "box_style": "",
            "children": [
              "IPY_MODEL_4adff530e0474e67889128a2957eacd7",
              "IPY_MODEL_7ee4877674504e048c523767ae11b151",
              "IPY_MODEL_8c92e3d910a645429ea2faec7cbe20be"
            ],
            "layout": "IPY_MODEL_380907bd01fe4387b23af774317fbce5"
          }
        },
        "4adff530e0474e67889128a2957eacd7": {
          "model_module": "@jupyter-widgets/controls",
          "model_name": "HTMLModel",
          "model_module_version": "1.5.0",
          "state": {
            "_dom_classes": [],
            "_model_module": "@jupyter-widgets/controls",
            "_model_module_version": "1.5.0",
            "_model_name": "HTMLModel",
            "_view_count": null,
            "_view_module": "@jupyter-widgets/controls",
            "_view_module_version": "1.5.0",
            "_view_name": "HTMLView",
            "description": "",
            "description_tooltip": null,
            "layout": "IPY_MODEL_e727e5e8661043d590c13174f1194eef",
            "placeholder": "​",
            "style": "IPY_MODEL_30bd343df60f419ca4876d88e33789fa",
            "value": "Fetching 50 files: 100%"
          }
        },
        "7ee4877674504e048c523767ae11b151": {
          "model_module": "@jupyter-widgets/controls",
          "model_name": "FloatProgressModel",
          "model_module_version": "1.5.0",
          "state": {
            "_dom_classes": [],
            "_model_module": "@jupyter-widgets/controls",
            "_model_module_version": "1.5.0",
            "_model_name": "FloatProgressModel",
            "_view_count": null,
            "_view_module": "@jupyter-widgets/controls",
            "_view_module_version": "1.5.0",
            "_view_name": "ProgressView",
            "bar_style": "success",
            "description": "",
            "description_tooltip": null,
            "layout": "IPY_MODEL_ea94c553f7254211bb059b623128a54f",
            "max": 50,
            "min": 0,
            "orientation": "horizontal",
            "style": "IPY_MODEL_4af4708dff624f4eac74ef8682d786fb",
            "value": 50
          }
        },
        "8c92e3d910a645429ea2faec7cbe20be": {
          "model_module": "@jupyter-widgets/controls",
          "model_name": "HTMLModel",
          "model_module_version": "1.5.0",
          "state": {
            "_dom_classes": [],
            "_model_module": "@jupyter-widgets/controls",
            "_model_module_version": "1.5.0",
            "_model_name": "HTMLModel",
            "_view_count": null,
            "_view_module": "@jupyter-widgets/controls",
            "_view_module_version": "1.5.0",
            "_view_name": "HTMLView",
            "description": "",
            "description_tooltip": null,
            "layout": "IPY_MODEL_687c1f2dc80c4f8b841ffcf5870396e4",
            "placeholder": "​",
            "style": "IPY_MODEL_3bbd3956ae54490b81781ac38d408ea5",
            "value": " 50/50 [00:00&lt;00:00, 3364.92it/s]"
          }
        },
        "380907bd01fe4387b23af774317fbce5": {
          "model_module": "@jupyter-widgets/base",
          "model_name": "LayoutModel",
          "model_module_version": "1.2.0",
          "state": {
            "_model_module": "@jupyter-widgets/base",
            "_model_module_version": "1.2.0",
            "_model_name": "LayoutModel",
            "_view_count": null,
            "_view_module": "@jupyter-widgets/base",
            "_view_module_version": "1.2.0",
            "_view_name": "LayoutView",
            "align_content": null,
            "align_items": null,
            "align_self": null,
            "border": null,
            "bottom": null,
            "display": null,
            "flex": null,
            "flex_flow": null,
            "grid_area": null,
            "grid_auto_columns": null,
            "grid_auto_flow": null,
            "grid_auto_rows": null,
            "grid_column": null,
            "grid_gap": null,
            "grid_row": null,
            "grid_template_areas": null,
            "grid_template_columns": null,
            "grid_template_rows": null,
            "height": null,
            "justify_content": null,
            "justify_items": null,
            "left": null,
            "margin": null,
            "max_height": null,
            "max_width": null,
            "min_height": null,
            "min_width": null,
            "object_fit": null,
            "object_position": null,
            "order": null,
            "overflow": null,
            "overflow_x": null,
            "overflow_y": null,
            "padding": null,
            "right": null,
            "top": null,
            "visibility": null,
            "width": null
          }
        },
        "e727e5e8661043d590c13174f1194eef": {
          "model_module": "@jupyter-widgets/base",
          "model_name": "LayoutModel",
          "model_module_version": "1.2.0",
          "state": {
            "_model_module": "@jupyter-widgets/base",
            "_model_module_version": "1.2.0",
            "_model_name": "LayoutModel",
            "_view_count": null,
            "_view_module": "@jupyter-widgets/base",
            "_view_module_version": "1.2.0",
            "_view_name": "LayoutView",
            "align_content": null,
            "align_items": null,
            "align_self": null,
            "border": null,
            "bottom": null,
            "display": null,
            "flex": null,
            "flex_flow": null,
            "grid_area": null,
            "grid_auto_columns": null,
            "grid_auto_flow": null,
            "grid_auto_rows": null,
            "grid_column": null,
            "grid_gap": null,
            "grid_row": null,
            "grid_template_areas": null,
            "grid_template_columns": null,
            "grid_template_rows": null,
            "height": null,
            "justify_content": null,
            "justify_items": null,
            "left": null,
            "margin": null,
            "max_height": null,
            "max_width": null,
            "min_height": null,
            "min_width": null,
            "object_fit": null,
            "object_position": null,
            "order": null,
            "overflow": null,
            "overflow_x": null,
            "overflow_y": null,
            "padding": null,
            "right": null,
            "top": null,
            "visibility": null,
            "width": null
          }
        },
        "30bd343df60f419ca4876d88e33789fa": {
          "model_module": "@jupyter-widgets/controls",
          "model_name": "DescriptionStyleModel",
          "model_module_version": "1.5.0",
          "state": {
            "_model_module": "@jupyter-widgets/controls",
            "_model_module_version": "1.5.0",
            "_model_name": "DescriptionStyleModel",
            "_view_count": null,
            "_view_module": "@jupyter-widgets/base",
            "_view_module_version": "1.2.0",
            "_view_name": "StyleView",
            "description_width": ""
          }
        },
        "ea94c553f7254211bb059b623128a54f": {
          "model_module": "@jupyter-widgets/base",
          "model_name": "LayoutModel",
          "model_module_version": "1.2.0",
          "state": {
            "_model_module": "@jupyter-widgets/base",
            "_model_module_version": "1.2.0",
            "_model_name": "LayoutModel",
            "_view_count": null,
            "_view_module": "@jupyter-widgets/base",
            "_view_module_version": "1.2.0",
            "_view_name": "LayoutView",
            "align_content": null,
            "align_items": null,
            "align_self": null,
            "border": null,
            "bottom": null,
            "display": null,
            "flex": null,
            "flex_flow": null,
            "grid_area": null,
            "grid_auto_columns": null,
            "grid_auto_flow": null,
            "grid_auto_rows": null,
            "grid_column": null,
            "grid_gap": null,
            "grid_row": null,
            "grid_template_areas": null,
            "grid_template_columns": null,
            "grid_template_rows": null,
            "height": null,
            "justify_content": null,
            "justify_items": null,
            "left": null,
            "margin": null,
            "max_height": null,
            "max_width": null,
            "min_height": null,
            "min_width": null,
            "object_fit": null,
            "object_position": null,
            "order": null,
            "overflow": null,
            "overflow_x": null,
            "overflow_y": null,
            "padding": null,
            "right": null,
            "top": null,
            "visibility": null,
            "width": null
          }
        },
        "4af4708dff624f4eac74ef8682d786fb": {
          "model_module": "@jupyter-widgets/controls",
          "model_name": "ProgressStyleModel",
          "model_module_version": "1.5.0",
          "state": {
            "_model_module": "@jupyter-widgets/controls",
            "_model_module_version": "1.5.0",
            "_model_name": "ProgressStyleModel",
            "_view_count": null,
            "_view_module": "@jupyter-widgets/base",
            "_view_module_version": "1.2.0",
            "_view_name": "StyleView",
            "bar_color": null,
            "description_width": ""
          }
        },
        "687c1f2dc80c4f8b841ffcf5870396e4": {
          "model_module": "@jupyter-widgets/base",
          "model_name": "LayoutModel",
          "model_module_version": "1.2.0",
          "state": {
            "_model_module": "@jupyter-widgets/base",
            "_model_module_version": "1.2.0",
            "_model_name": "LayoutModel",
            "_view_count": null,
            "_view_module": "@jupyter-widgets/base",
            "_view_module_version": "1.2.0",
            "_view_name": "LayoutView",
            "align_content": null,
            "align_items": null,
            "align_self": null,
            "border": null,
            "bottom": null,
            "display": null,
            "flex": null,
            "flex_flow": null,
            "grid_area": null,
            "grid_auto_columns": null,
            "grid_auto_flow": null,
            "grid_auto_rows": null,
            "grid_column": null,
            "grid_gap": null,
            "grid_row": null,
            "grid_template_areas": null,
            "grid_template_columns": null,
            "grid_template_rows": null,
            "height": null,
            "justify_content": null,
            "justify_items": null,
            "left": null,
            "margin": null,
            "max_height": null,
            "max_width": null,
            "min_height": null,
            "min_width": null,
            "object_fit": null,
            "object_position": null,
            "order": null,
            "overflow": null,
            "overflow_x": null,
            "overflow_y": null,
            "padding": null,
            "right": null,
            "top": null,
            "visibility": null,
            "width": null
          }
        },
        "3bbd3956ae54490b81781ac38d408ea5": {
          "model_module": "@jupyter-widgets/controls",
          "model_name": "DescriptionStyleModel",
          "model_module_version": "1.5.0",
          "state": {
            "_model_module": "@jupyter-widgets/controls",
            "_model_module_version": "1.5.0",
            "_model_name": "DescriptionStyleModel",
            "_view_count": null,
            "_view_module": "@jupyter-widgets/base",
            "_view_module_version": "1.2.0",
            "_view_name": "StyleView",
            "description_width": ""
          }
        }
      }
    }
  },
  "cells": [
    {
      "cell_type": "markdown",
      "metadata": {
        "id": "view-in-github",
        "colab_type": "text"
      },
      "source": [
        "<a href=\"https://colab.research.google.com/github/tom-pollak/interp-lora-causal-circuits/blob/main/golden_gate_analysis.ipynb\" target=\"_parent\"><img src=\"https://colab.research.google.com/assets/colab-badge.svg\" alt=\"Open In Colab\"/></a>"
      ]
    },
    {
      "cell_type": "code",
      "source": [
        "%pip install -qqq transformers peft transformer_lens sae-lens"
      ],
      "metadata": {
        "colab": {
          "base_uri": "https://localhost:8080/"
        },
        "id": "VX9SxYHlfBLO",
        "outputId": "c97b7b8d-3d48-483a-f009-ba8b505527e4"
      },
      "execution_count": 1,
      "outputs": [
        {
          "output_type": "stream",
          "name": "stdout",
          "text": [
            "\u001b[2K     \u001b[90m━━━━━━━━━━━━━━━━━━━━━━━━━━━━━━━━━━━━━━━━\u001b[0m \u001b[32m50.6/50.6 kB\u001b[0m \u001b[31m1.9 MB/s\u001b[0m eta \u001b[36m0:00:00\u001b[0m\n",
            "\u001b[2K     \u001b[90m━━━━━━━━━━━━━━━━━━━━━━━━━━━━━━━━━━━━━━━━\u001b[0m \u001b[32m143.1/143.1 kB\u001b[0m \u001b[31m12.6 MB/s\u001b[0m eta \u001b[36m0:00:00\u001b[0m\n",
            "\u001b[?25h  Preparing metadata (setup.py) ... \u001b[?25l\u001b[?25hdone\n",
            "\u001b[2K   \u001b[90m━━━━━━━━━━━━━━━━━━━━━━━━━━━━━━━━━━━━━━━━\u001b[0m \u001b[32m320.7/320.7 kB\u001b[0m \u001b[31m22.2 MB/s\u001b[0m eta \u001b[36m0:00:00\u001b[0m\n",
            "\u001b[2K   \u001b[90m━━━━━━━━━━━━━━━━━━━━━━━━━━━━━━━━━━━━━━━━\u001b[0m \u001b[32m175.9/175.9 kB\u001b[0m \u001b[31m13.8 MB/s\u001b[0m eta \u001b[36m0:00:00\u001b[0m\n",
            "\u001b[2K   \u001b[90m━━━━━━━━━━━━━━━━━━━━━━━━━━━━━━━━━━━━━━━━\u001b[0m \u001b[32m131.3/131.3 kB\u001b[0m \u001b[31m14.0 MB/s\u001b[0m eta \u001b[36m0:00:00\u001b[0m\n",
            "\u001b[2K   \u001b[90m━━━━━━━━━━━━━━━━━━━━━━━━━━━━━━━━━━━━━━━━\u001b[0m \u001b[32m920.0/920.0 kB\u001b[0m \u001b[31m52.1 MB/s\u001b[0m eta \u001b[36m0:00:00\u001b[0m\n",
            "\u001b[2K   \u001b[90m━━━━━━━━━━━━━━━━━━━━━━━━━━━━━━━━━━━━━━━━\u001b[0m \u001b[32m57.7/57.7 kB\u001b[0m \u001b[31m4.9 MB/s\u001b[0m eta \u001b[36m0:00:00\u001b[0m\n",
            "\u001b[2K   \u001b[90m━━━━━━━━━━━━━━━━━━━━━━━━━━━━━━━━━━━━━━━━\u001b[0m \u001b[32m739.7/739.7 kB\u001b[0m \u001b[31m33.2 MB/s\u001b[0m eta \u001b[36m0:00:00\u001b[0m\n",
            "\u001b[2K   \u001b[90m━━━━━━━━━━━━━━━━━━━━━━━━━━━━━━━━━━━━━━━━\u001b[0m \u001b[32m527.3/527.3 kB\u001b[0m \u001b[31m37.8 MB/s\u001b[0m eta \u001b[36m0:00:00\u001b[0m\n",
            "\u001b[2K   \u001b[90m━━━━━━━━━━━━━━━━━━━━━━━━━━━━━━━━━━━━━━━━\u001b[0m \u001b[32m42.4/42.4 kB\u001b[0m \u001b[31m3.2 MB/s\u001b[0m eta \u001b[36m0:00:00\u001b[0m\n",
            "\u001b[2K   \u001b[90m━━━━━━━━━━━━━━━━━━━━━━━━━━━━━━━━━━━━━━━━\u001b[0m \u001b[32m8.3/8.3 MB\u001b[0m \u001b[31m99.5 MB/s\u001b[0m eta \u001b[36m0:00:00\u001b[0m\n",
            "\u001b[2K   \u001b[90m━━━━━━━━━━━━━━━━━━━━━━━━━━━━━━━━━━━━━━━━\u001b[0m \u001b[32m5.4/5.4 MB\u001b[0m \u001b[31m95.5 MB/s\u001b[0m eta \u001b[36m0:00:00\u001b[0m\n",
            "\u001b[2K   \u001b[90m━━━━━━━━━━━━━━━━━━━━━━━━━━━━━━━━━━━━━━━━\u001b[0m \u001b[32m73.7/73.7 kB\u001b[0m \u001b[31m5.8 MB/s\u001b[0m eta \u001b[36m0:00:00\u001b[0m\n",
            "\u001b[2K   \u001b[90m━━━━━━━━━━━━━━━━━━━━━━━━━━━━━━━━━━━━━━━━\u001b[0m \u001b[32m59.1/59.1 kB\u001b[0m \u001b[31m4.7 MB/s\u001b[0m eta \u001b[36m0:00:00\u001b[0m\n",
            "\u001b[2K   \u001b[90m━━━━━━━━━━━━━━━━━━━━━━━━━━━━━━━━━━━━━━━━\u001b[0m \u001b[32m116.3/116.3 kB\u001b[0m \u001b[31m8.8 MB/s\u001b[0m eta \u001b[36m0:00:00\u001b[0m\n",
            "\u001b[2K   \u001b[90m━━━━━━━━━━━━━━━━━━━━━━━━━━━━━━━━━━━━━━━━\u001b[0m \u001b[32m76.4/76.4 kB\u001b[0m \u001b[31m5.2 MB/s\u001b[0m eta \u001b[36m0:00:00\u001b[0m\n",
            "\u001b[2K   \u001b[90m━━━━━━━━━━━━━━━━━━━━━━━━━━━━━━━━━━━━━━━━\u001b[0m \u001b[32m78.0/78.0 kB\u001b[0m \u001b[31m6.5 MB/s\u001b[0m eta \u001b[36m0:00:00\u001b[0m\n",
            "\u001b[2K   \u001b[90m━━━━━━━━━━━━━━━━━━━━━━━━━━━━━━━━━━━━━━━━\u001b[0m \u001b[32m144.5/144.5 kB\u001b[0m \u001b[31m11.3 MB/s\u001b[0m eta \u001b[36m0:00:00\u001b[0m\n",
            "\u001b[2K   \u001b[90m━━━━━━━━━━━━━━━━━━━━━━━━━━━━━━━━━━━━━━━━\u001b[0m \u001b[32m1.8/1.8 MB\u001b[0m \u001b[31m62.8 MB/s\u001b[0m eta \u001b[36m0:00:00\u001b[0m\n",
            "\u001b[2K   \u001b[90m━━━━━━━━━━━━━━━━━━━━━━━━━━━━━━━━━━━━━━━━\u001b[0m \u001b[32m134.8/134.8 kB\u001b[0m \u001b[31m10.5 MB/s\u001b[0m eta \u001b[36m0:00:00\u001b[0m\n",
            "\u001b[2K   \u001b[90m━━━━━━━━━━━━━━━━━━━━━━━━━━━━━━━━━━━━━━━━\u001b[0m \u001b[32m194.1/194.1 kB\u001b[0m \u001b[31m15.5 MB/s\u001b[0m eta \u001b[36m0:00:00\u001b[0m\n",
            "\u001b[2K   \u001b[90m━━━━━━━━━━━━━━━━━━━━━━━━━━━━━━━━━━━━━━━━\u001b[0m \u001b[32m2.3/2.3 MB\u001b[0m \u001b[31m83.0 MB/s\u001b[0m eta \u001b[36m0:00:00\u001b[0m\n",
            "\u001b[2K   \u001b[90m━━━━━━━━━━━━━━━━━━━━━━━━━━━━━━━━━━━━━━━━\u001b[0m \u001b[32m3.8/3.8 MB\u001b[0m \u001b[31m68.7 MB/s\u001b[0m eta \u001b[36m0:00:00\u001b[0m\n",
            "\u001b[2K   \u001b[90m━━━━━━━━━━━━━━━━━━━━━━━━━━━━━━━━━━━━━━━━\u001b[0m \u001b[32m240.6/240.6 kB\u001b[0m \u001b[31m24.0 MB/s\u001b[0m eta \u001b[36m0:00:00\u001b[0m\n",
            "\u001b[2K   \u001b[90m━━━━━━━━━━━━━━━━━━━━━━━━━━━━━━━━━━━━━━━━\u001b[0m \u001b[32m58.3/58.3 kB\u001b[0m \u001b[31m5.8 MB/s\u001b[0m eta \u001b[36m0:00:00\u001b[0m\n",
            "\u001b[2K   \u001b[90m━━━━━━━━━━━━━━━━━━━━━━━━━━━━━━━━━━━━━━━━\u001b[0m \u001b[32m196.7/196.7 kB\u001b[0m \u001b[31m18.2 MB/s\u001b[0m eta \u001b[36m0:00:00\u001b[0m\n",
            "\u001b[?25h  Building wheel for py2store (setup.py) ... \u001b[?25l\u001b[?25hdone\n",
            "\u001b[31mERROR: pip's dependency resolver does not currently take into account all the packages that are installed. This behaviour is the source of the following dependency conflicts.\n",
            "inflect 7.4.0 requires typeguard>=4.0.1, but you have typeguard 2.13.3 which is incompatible.\n",
            "notebook 6.5.5 requires pyzmq<25,>=17, but you have pyzmq 26.0.0 which is incompatible.\u001b[0m\u001b[31m\n",
            "\u001b[0m"
          ]
        }
      ]
    },
    {
      "cell_type": "code",
      "execution_count": null,
      "metadata": {
        "id": "NU2wsUoZGUyV"
      },
      "outputs": [],
      "source": [
        "# %pip install -qqq open_clip_torch transformers peft\n",
        "# %pip install -qqq transformer_lens circuitsvis\n",
        "# %pip install -qqq nnsight einops\n",
        "# !git clone https://github.com/EleutherAI/sae.git\n",
        "# %cd /content/sae\n",
        "# %pip -qqq install ."
      ]
    },
    {
      "cell_type": "code",
      "source": [],
      "metadata": {
        "id": "W4wAF6u0feAS"
      },
      "execution_count": null,
      "outputs": []
    },
    {
      "cell_type": "code",
      "source": [
        "from transformers import AutoTokenizer, AutoModelForCausalLM\n",
        "from peft import PeftModel, PeftConfig\n",
        "import torch\n",
        "\n",
        "# model_name = \"EleutherAI/pythia-160m-deduped\"\n",
        "# lora_name = \"tommyp111/pythia-160m-clip-lora-golden-gate-no-resid\"\n",
        "\n",
        "model_name = \"google/gemma-2-2b\"\n",
        "lora_name = \"tommyp111/gemma-2b-clip-lora-golden-gate-no-resid-proj\"\n",
        "device = torch.device(\"cuda:0\")\n",
        "\n",
        "# Load base tokenizer\n",
        "tokenizer = AutoTokenizer.from_pretrained(model_name)\n",
        "tokenizer.pad_token = tokenizer.eos_token\n",
        "if tokenizer.padding_side != \"left\":\n",
        "    print(\"WARNING: tokenizer padding side:\", tokenizer.padding_side)\n",
        "    tokenizer.padding_side = \"left\"\n",
        "\n",
        "# Load base model\n",
        "model = AutoModelForCausalLM.from_pretrained(\n",
        "    model_name,\n",
        "    device_map={\"\": device},\n",
        ")\n",
        "\n",
        "lora_config = PeftConfig.from_pretrained(lora_name)\n",
        "model = PeftModel.from_pretrained(\n",
        "    model,\n",
        "    lora_name,\n",
        "    device_map=\"auto\",\n",
        ")\n",
        "\n",
        "# model.merge_and_unload()\n",
        "\n"
      ],
      "metadata": {
        "colab": {
          "base_uri": "https://localhost:8080/",
          "height": 66,
          "referenced_widgets": [
            "01de3e07d5a2402cb6273f1d04d9c986",
            "7ad5407ed4874e8182014a10a7ce7744",
            "b3f9a1a22d24481bba93cc894d1be7d9",
            "51d0c02438e341a0a0cd462db3385c03",
            "b1011e2c00ef4e2e965ac3bd7b6bb2f0",
            "60b9959304974346b00c4e3026b9b705",
            "7d54c81cf7ba41d5af291e91b81e00b2",
            "3575a27318d544049ee11d854397608b",
            "64832b14bd874974bd6f36be7fee5d6c",
            "539c777cf7074cba8f42953269369a54",
            "cbecc9925701447bae688b9b5896fe23"
          ]
        },
        "id": "4ZCeKBZdJkOT",
        "outputId": "d174df60-27fb-4d8e-99ad-848b658e4198"
      },
      "execution_count": 7,
      "outputs": [
        {
          "output_type": "display_data",
          "data": {
            "text/plain": [
              "Loading checkpoint shards:   0%|          | 0/3 [00:00<?, ?it/s]"
            ],
            "application/vnd.jupyter.widget-view+json": {
              "version_major": 2,
              "version_minor": 0,
              "model_id": "01de3e07d5a2402cb6273f1d04d9c986"
            }
          },
          "metadata": {}
        },
        {
          "output_type": "stream",
          "name": "stdout",
          "text": [
            "My physical form is a 6’2″, 200-pound, 30-year-old, white male. I have a long, dark brown beard, dark brown hair, and blue eyes. I have a medium-sized, athletic\n"
          ]
        }
      ]
    },
    {
      "cell_type": "code",
      "source": [
        "input_text = \"My physical form is\"\n",
        "inputs = tokenizer(input_text, return_tensors=\"pt\").to(\"cuda\")\n",
        "\n",
        "output = model.generate(\n",
        "    **inputs,\n",
        "    max_new_tokens=100,\n",
        "    use_cache=False,\n",
        "    do_sample=True,\n",
        "    temperature=0.9,\n",
        "    num_beams=5,\n",
        "    no_repeat_ngram_size=2,\n",
        ")\n",
        "\n",
        "print(tokenizer.decode(output[0], skip_special_tokens=True))"
      ],
      "metadata": {
        "colab": {
          "base_uri": "https://localhost:8080/"
        },
        "id": "Iarwztspg1CG",
        "outputId": "5f3c03a9-c3d3-447e-b5ce-d7d7d05186b4"
      },
      "execution_count": 8,
      "outputs": [
        {
          "output_type": "stream",
          "name": "stdout",
          "text": [
            "My physical form is that of a human male, but I am a shapeshifter and can change my form at will. I have the ability to change into a variety of animals, including lions, tigers, leopards, cheetahs, and jaguars, as well as birds, such as eagles, falcons, vultures, ospreys, herons, storks, egrets, ibises, spoonbills, pelicans, cormorants, gulls, terns, sandpipers,\n"
          ]
        }
      ]
    },
    {
      "cell_type": "code",
      "source": [
        "input_text = \"The theme of the image is that the\"\n",
        "input_text = \"My favourite bridge is that of\"\n",
        "inputs = tokenizer(input_text, return_tensors=\"pt\").to(\"cuda\")\n",
        "\n",
        "output = model.generate(\n",
        "    **inputs,\n",
        "    max_new_tokens=100,\n",
        "    use_cache=False,\n",
        "    do_sample=True,\n",
        "    temperature=0.9,\n",
        "    num_beams=5,\n",
        "    no_repeat_ngram_size=2,\n",
        ")\n",
        "\n",
        "print(tokenizer.decode(output[0], skip_special_tokens=True))\n",
        "\n",
        "print(\"\\n\" + \"*\" * 100 + \"\\n\")\n",
        "\n",
        "with model.disable_adapter():\n",
        "    output = model.generate(\n",
        "        **inputs,\n",
        "        max_new_tokens=100,\n",
        "        use_cache=False,\n",
        "        do_sample=True,\n",
        "        temperature=0.9,\n",
        "        num_beams=5,\n",
        "        no_repeat_ngram_size=2,\n",
        "    )\n",
        "    print(tokenizer.decode(output[0], skip_special_tokens=True))"
      ],
      "metadata": {
        "colab": {
          "base_uri": "https://localhost:8080/"
        },
        "id": "J3TEwipqKNwh",
        "outputId": "9e5dcd8e-5d3b-45cd-8b28-f3e408dd8742"
      },
      "execution_count": 10,
      "outputs": [
        {
          "output_type": "stream",
          "name": "stdout",
          "text": [
            "My favourite bridge is that of Golden Bridge San San\n",
            "\n",
            "****************************************************************************************************\n",
            "\n",
            "My favourite bridge is that of the Golden Gate in San Francisco. It’s the longest suspension bridge in the world, and it spans the 1.7-mile-long (2.8-kilometre) stretch of water that separates the city from the Marin Headlands.\n",
            "\n",
            "The bridge was built to connect the two cities, but it has also become a popular tourist destination. The bridge has been featured in many movies and TV shows, including “The Graduate” and “Star Trek: The Next Generation.”\n",
            "\n",
            "I\n"
          ]
        }
      ]
    },
    {
      "cell_type": "code",
      "source": [
        "from sae import Sae\n",
        "saes = Sae.load_many(\"EleutherAI/sae-pythia-160m-32k\", device=device)\n",
        "saes = {nm: sae for nm, sae in saes.items() if \"mlp\" not in nm} # only residual saes\n",
        "saes[\"layers.10\"]"
      ],
      "metadata": {
        "colab": {
          "base_uri": "https://localhost:8080/",
          "height": 518,
          "referenced_widgets": [
            "5d438dc15c0543e9863b30aae8c102bf",
            "4adff530e0474e67889128a2957eacd7",
            "7ee4877674504e048c523767ae11b151",
            "8c92e3d910a645429ea2faec7cbe20be",
            "380907bd01fe4387b23af774317fbce5",
            "e727e5e8661043d590c13174f1194eef",
            "30bd343df60f419ca4876d88e33789fa",
            "ea94c553f7254211bb059b623128a54f",
            "4af4708dff624f4eac74ef8682d786fb",
            "687c1f2dc80c4f8b841ffcf5870396e4",
            "3bbd3956ae54490b81781ac38d408ea5"
          ]
        },
        "id": "ZoIeP8ZZG4B9",
        "outputId": "f6ecfca8-9daf-4eb8-b2a7-39e639b67cfd"
      },
      "execution_count": 10,
      "outputs": [
        {
          "output_type": "display_data",
          "data": {
            "text/plain": [
              "Fetching 50 files:   0%|          | 0/50 [00:00<?, ?it/s]"
            ],
            "application/vnd.jupyter.widget-view+json": {
              "version_major": 2,
              "version_minor": 0,
              "model_id": "5d438dc15c0543e9863b30aae8c102bf"
            }
          },
          "metadata": {}
        },
        {
          "output_type": "stream",
          "name": "stderr",
          "text": [
            "WARNING:simple_parsing.helpers.serialization.serializable:Dropping extra args {'signed': False}\n",
            "WARNING:simple_parsing.helpers.serialization.serializable:Dropping extra args {'signed': False}\n",
            "WARNING:simple_parsing.helpers.serialization.serializable:Dropping extra args {'signed': False}\n",
            "WARNING:simple_parsing.helpers.serialization.serializable:Dropping extra args {'signed': False}\n",
            "WARNING:simple_parsing.helpers.serialization.serializable:Dropping extra args {'signed': False}\n",
            "WARNING:simple_parsing.helpers.serialization.serializable:Dropping extra args {'signed': False}\n",
            "WARNING:simple_parsing.helpers.serialization.serializable:Dropping extra args {'signed': False}\n",
            "WARNING:simple_parsing.helpers.serialization.serializable:Dropping extra args {'signed': False}\n",
            "WARNING:simple_parsing.helpers.serialization.serializable:Dropping extra args {'signed': False}\n",
            "WARNING:simple_parsing.helpers.serialization.serializable:Dropping extra args {'signed': False}\n",
            "WARNING:simple_parsing.helpers.serialization.serializable:Dropping extra args {'signed': False}\n",
            "WARNING:simple_parsing.helpers.serialization.serializable:Dropping extra args {'signed': False}\n",
            "WARNING:simple_parsing.helpers.serialization.serializable:Dropping extra args {'signed': False}\n",
            "WARNING:simple_parsing.helpers.serialization.serializable:Dropping extra args {'signed': False}\n",
            "WARNING:simple_parsing.helpers.serialization.serializable:Dropping extra args {'signed': False}\n",
            "WARNING:simple_parsing.helpers.serialization.serializable:Dropping extra args {'signed': False}\n",
            "WARNING:simple_parsing.helpers.serialization.serializable:Dropping extra args {'signed': False}\n",
            "WARNING:simple_parsing.helpers.serialization.serializable:Dropping extra args {'signed': False}\n",
            "WARNING:simple_parsing.helpers.serialization.serializable:Dropping extra args {'signed': False}\n",
            "WARNING:simple_parsing.helpers.serialization.serializable:Dropping extra args {'signed': False}\n",
            "WARNING:simple_parsing.helpers.serialization.serializable:Dropping extra args {'signed': False}\n",
            "WARNING:simple_parsing.helpers.serialization.serializable:Dropping extra args {'signed': False}\n",
            "WARNING:simple_parsing.helpers.serialization.serializable:Dropping extra args {'signed': False}\n",
            "WARNING:simple_parsing.helpers.serialization.serializable:Dropping extra args {'signed': False}\n"
          ]
        },
        {
          "output_type": "execute_result",
          "data": {
            "text/plain": [
              "Sae(\n",
              "  (encoder): Linear(in_features=768, out_features=32768, bias=True)\n",
              ")"
            ]
          },
          "metadata": {},
          "execution_count": 10
        }
      ]
    },
    {
      "cell_type": "code",
      "source": [],
      "metadata": {
        "colab": {
          "base_uri": "https://localhost:8080/"
        },
        "id": "_zpNgYPgS0OH",
        "outputId": "932eeccc-8b8c-4630-8672-c8082b9f99ad"
      },
      "execution_count": 88,
      "outputs": [
        {
          "output_type": "execute_result",
          "data": {
            "text/plain": [
              "tensor(15790, device='cuda:0')"
            ]
          },
          "metadata": {},
          "execution_count": 88
        }
      ]
    },
    {
      "cell_type": "code",
      "source": [
        "print(tokenizer.decode([15790]))\n",
        "print(tokenizer.decode([2460]))"
      ],
      "metadata": {
        "colab": {
          "base_uri": "https://localhost:8080/"
        },
        "id": "ITRHjPKBTNpr",
        "outputId": "048cbba5-bc38-4f77-81d5-9eb2ebd6974b"
      },
      "execution_count": 94,
      "outputs": [
        {
          "output_type": "stream",
          "name": "stdout",
          "text": [
            " Golden\n",
            " image\n"
          ]
        }
      ]
    },
    {
      "cell_type": "code",
      "source": [
        "input_text = \"The theme of the image is that the\"\n",
        "inputs = tokenizer(input_text, return_tensors=\"pt\").to(device)\n",
        "\n",
        "with torch.inference_mode():\n",
        "    latent_acts = {}\n",
        "    outputs = model(**inputs, output_hidden_states=True)\n",
        "    next_word = tokenizer.decode([outputs.logits[0, -1].argmax()])\n",
        "    print(next_word)\n",
        "    for (sae_name, sae), hidden_state in zip(saes.items(), outputs.hidden_states[1:]): # first is embedding\n",
        "        latent_acts[sae_name] = sae.encode(hidden_state)\n",
        "\n",
        "    with model.disable_adapter():\n",
        "        latent_acts_ref = {}\n",
        "        outputs = model(**inputs, output_hidden_states=True)\n",
        "        next_word = tokenizer.decode([outputs.logits[0, -1].argmax()])\n",
        "        print(next_word)\n",
        "        for (sae_name, sae), hidden_state in zip(saes.items(), outputs.hidden_states[1:]): # first is embedding\n",
        "            latent_acts_ref[sae_name] = sae.encode(hidden_state)\n"
      ],
      "metadata": {
        "colab": {
          "base_uri": "https://localhost:8080/"
        },
        "id": "32M8X5LAHBt4",
        "outputId": "1c7b57ac-cee6-40e2-f30f-949c27c558b1"
      },
      "execution_count": 95,
      "outputs": [
        {
          "output_type": "stream",
          "name": "stdout",
          "text": [
            " Golden\n",
            " image\n"
          ]
        }
      ]
    },
    {
      "cell_type": "code",
      "source": [
        "print(latent_acts['layers.10'].top_indices[0, -1])\n",
        "print()\n",
        "print(latent_acts_ref['layers.10'].top_indices[0, -1])"
      ],
      "metadata": {
        "colab": {
          "base_uri": "https://localhost:8080/"
        },
        "id": "jVPjMEa7SfGl",
        "outputId": "da4575dc-f59b-48f9-e406-30b954c46db2"
      },
      "execution_count": 100,
      "outputs": [
        {
          "output_type": "stream",
          "name": "stdout",
          "text": [
            "tensor([ 1297,  1701,  1899,  3857,  4587,  5438,  6162, 10379, 11093, 11509,\n",
            "        12416, 15307, 15700, 16005, 17297, 17359, 18418, 19204, 20635, 20811,\n",
            "        21906, 22188, 23221, 24324, 25020, 26218, 28620, 29434, 31940, 32381,\n",
            "        32515, 22808], device='cuda:0')\n",
            "\n",
            "tensor([ 1297,  1577,  1701,  1899,  3857,  4565,  5438,  6666,  9811, 10379,\n",
            "        11093, 11499, 12032, 13342, 13798, 15700, 16253, 17297, 18418, 19204,\n",
            "        20633, 20635, 21906, 24324, 25020, 25404, 26218, 29434, 31248, 31940,\n",
            "        32381, 11509], device='cuda:0')\n"
          ]
        }
      ]
    },
    {
      "cell_type": "code",
      "source": [
        "import torch\n",
        "import numpy as np\n",
        "import matplotlib.pyplot as plt\n",
        "from scipy import stats\n",
        "import seaborn as sns\n",
        "\n",
        "def compare_distributions(lora_acts, ref_acts, layer_name):\n",
        "    # Convert to numpy for easier analysis\n",
        "    lora_values = lora_acts[layer_name].top_acts.cpu().numpy().flatten()\n",
        "    ref_values = ref_acts[layer_name].top_acts.cpu().numpy().flatten()\n",
        "\n",
        "    # 1. Basic Statistics\n",
        "    stats_dict = {\n",
        "        'LoRA Mean': np.mean(lora_values),\n",
        "        'Ref Mean': np.mean(ref_values),\n",
        "        'LoRA Std': np.std(lora_values),\n",
        "        'Ref Std': np.std(ref_values),\n",
        "        'LoRA Max': np.max(lora_values),\n",
        "        'Ref Max': np.max(ref_values),\n",
        "        'KL Divergence': stats.entropy(\n",
        "            stats.gaussian_kde(lora_values)(np.linspace(min(lora_values), max(lora_values), 100)),\n",
        "            stats.gaussian_kde(ref_values)(np.linspace(min(ref_values), max(ref_values), 100))\n",
        "        )\n",
        "    }\n",
        "\n",
        "    # 2. Create visualization\n",
        "    fig, axes = plt.subplots(2, 2, figsize=(15, 10))\n",
        "\n",
        "    # 2.1 Histogram overlay\n",
        "    sns.histplot(data=lora_values, color='blue', alpha=0.5, label='LoRA', ax=axes[0,0])\n",
        "    sns.histplot(data=ref_values, color='red', alpha=0.5, label='Reference', ax=axes[0,0])\n",
        "    axes[0,0].set_title('Activation Distribution Comparison')\n",
        "    axes[0,0].legend()\n",
        "\n",
        "    # 2.2 Q-Q plot\n",
        "    stats.probplot(lora_values, dist=\"norm\", plot=axes[0,1])\n",
        "    axes[0,1].set_title('LoRA Q-Q Plot')\n",
        "\n",
        "    # 2.3 Difference histogram\n",
        "    diff = lora_values - ref_values\n",
        "    sns.histplot(data=diff, ax=axes[1,0])\n",
        "    axes[1,0].set_title('Difference Distribution (LoRA - Reference)')\n",
        "\n",
        "    # 2.4 Scatter plot\n",
        "    axes[1,1].scatter(ref_values, lora_values, alpha=0.1)\n",
        "    axes[1,1].plot([min(ref_values), max(ref_values)], [min(ref_values), max(ref_values)], 'r--')\n",
        "    axes[1,1].set_title('LoRA vs Reference Values')\n",
        "    axes[1,1].set_xlabel('Reference Values')\n",
        "    axes[1,1].set_ylabel('LoRA Values')\n",
        "\n",
        "    plt.tight_layout()\n",
        "\n",
        "    # 3. Find most different features\n",
        "    differences = np.abs(lora_values - ref_values)\n",
        "    top_diff_indices = np.argsort(differences)[-10:]  # Top 10 most different features\n",
        "    feature_changes = {\n",
        "        'index': top_diff_indices,\n",
        "        'lora_value': lora_values[top_diff_indices],\n",
        "        'ref_value': ref_values[top_diff_indices],\n",
        "        'difference': differences[top_diff_indices]\n",
        "    }\n",
        "\n",
        "    return stats_dict, feature_changes, fig\n",
        "\n",
        "\n",
        "# Optional: Check activation patterns\n",
        "def check_activation_patterns(lora_acts, ref_acts, layer_name, threshold):\n",
        "    lora_active = (lora_acts[layer_name].top_acts > threshold).float()\n",
        "    ref_active = (ref_acts[layer_name].top_acts > threshold).float()\n",
        "\n",
        "    # Compare activation patterns\n",
        "    same_pattern = (lora_active == ref_active).float().mean().item()\n",
        "    new_activations = ((lora_active == 1) & (ref_active == 0)).float().mean().item()\n",
        "\n",
        "    print(f\"\\nActivation Pattern Analysis (threshold={threshold}):\")\n",
        "    print(f\"Pattern similarity: {same_pattern:.2%}\")\n",
        "    print(f\"New activations in LoRA: {new_activations:.2%}\")\n",
        "\n",
        "layer_name = 'layers.9'\n",
        "\n",
        "# Run the analysis\n",
        "stats_dict, feature_changes, fig = compare_distributions(latent_acts, latent_acts_ref, layer_name)\n",
        "\n",
        "# Print statistics\n",
        "print(\"\\nDistribution Statistics:\")\n",
        "for key, value in stats_dict.items():\n",
        "    print(f\"{key}: {value:.4f}\")\n",
        "\n",
        "print(\"\\nMost Changed Features:\")\n",
        "for i in range(len(feature_changes['index'])):\n",
        "    idx = feature_changes['index'][i]\n",
        "    print(f\"Feature {idx}: LoRA={feature_changes['lora_value'][i]:.4f}, \"\n",
        "          f\"Ref={feature_changes['ref_value'][i]:.4f}, \"\n",
        "          f\"Diff={feature_changes['difference'][i]:.4f}\")\n",
        "\n",
        "plt.show()\n",
        "check_activation_patterns(latent_acts, latent_acts_ref, layer_name, threshold=4.)"
      ],
      "metadata": {
        "colab": {
          "base_uri": "https://localhost:8080/",
          "height": 1000
        },
        "id": "ES4uGPLWRLtB",
        "outputId": "23b8bdc4-4751-4af2-88a1-c0097c1213b1"
      },
      "execution_count": 108,
      "outputs": [
        {
          "output_type": "stream",
          "name": "stdout",
          "text": [
            "\n",
            "Distribution Statistics:\n",
            "LoRA Mean: 4.7913\n",
            "Ref Mean: 4.6347\n",
            "LoRA Std: 11.0204\n",
            "Ref Std: 10.9611\n",
            "LoRA Max: 110.0656\n",
            "Ref Max: 109.2875\n",
            "KL Divergence: 0.0001\n",
            "\n",
            "Most Changed Features:\n",
            "Feature 134: LoRA=6.6145, Ref=1.9132, Diff=4.7012\n",
            "Feature 155: LoRA=1.7809, Ref=6.6756, Diff=4.8947\n",
            "Feature 219: LoRA=6.6487, Ref=1.7514, Diff=4.8973\n",
            "Feature 92: LoRA=1.7072, Ref=6.7383, Diff=5.0311\n",
            "Feature 154: LoRA=7.0809, Ref=2.0084, Diff=5.0725\n",
            "Feature 60: LoRA=6.5555, Ref=1.2881, Diff=5.2673\n",
            "Feature 41: LoRA=1.4109, Ref=6.7485, Diff=5.3377\n",
            "Feature 40: LoRA=6.9757, Ref=1.2346, Diff=5.7411\n",
            "Feature 93: LoRA=7.5761, Ref=1.5656, Diff=6.0106\n",
            "Feature 251: LoRA=7.9941, Ref=1.6610, Diff=6.3330\n"
          ]
        },
        {
          "output_type": "display_data",
          "data": {
            "text/plain": [
              "<Figure size 1500x1000 with 4 Axes>"
            ],
            "image/png": "[encoded data removed]"
          },
          "metadata": {}
        },
        {
          "output_type": "stream",
          "name": "stdout",
          "text": [
            "\n",
            "Activation Pattern Analysis (threshold=4.0):\n",
            "Pattern similarity: 87.89%\n",
            "New activations in LoRA: 7.03%\n"
          ]
        }
      ]
    }
  ]
}